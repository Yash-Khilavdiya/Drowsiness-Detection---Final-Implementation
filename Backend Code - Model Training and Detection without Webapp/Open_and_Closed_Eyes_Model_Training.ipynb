{
 "cells": [
  {
   "cell_type": "markdown",
   "id": "71bf2585",
   "metadata": {
    "scrolled": false
   },
   "source": [
    "## Training our model to predict Open and Closed Eyes"
   ]
  },
  {
   "cell_type": "markdown",
   "id": "91ca1343",
   "metadata": {},
   "source": [
    "### Importing Libraries"
   ]
  },
  {
   "cell_type": "code",
   "execution_count": 1,
   "id": "080304de",
   "metadata": {},
   "outputs": [],
   "source": [
    "import os\n",
    "from keras.preprocessing import image\n",
    "import matplotlib.pyplot as plt \n",
    "import numpy as np\n",
    "from keras.utils.np_utils import to_categorical\n",
    "import random,shutil\n",
    "from keras.models import Sequential\n",
    "from keras.layers import Dropout, Conv2D, Flatten, Dense, MaxPooling2D, BatchNormalization\n",
    "from keras.models import load_model"
   ]
  },
  {
   "cell_type": "markdown",
   "id": "63d02319",
   "metadata": {},
   "source": [
    "### Importing Data"
   ]
  },
  {
   "cell_type": "code",
   "execution_count": 2,
   "id": "1b0fbe09",
   "metadata": {},
   "outputs": [
    {
     "name": "stdout",
     "output_type": "stream",
     "text": [
      "Found 1234 images belonging to 2 classes.\n",
      "Found 218 images belonging to 2 classes.\n",
      "1234\n",
      "<keras.preprocessing.image.DirectoryIterator object at 0x0000015C0BA8C3A0>\n",
      "77 13\n"
     ]
    }
   ],
   "source": [
    "def generator(dir, gen=image.ImageDataGenerator(rescale=1./255), shuffle=True, batch_size=1, target_size=(24,24), class_mode='categorical'):\n",
    "\n",
    "    return gen.flow_from_directory(dir,batch_size=batch_size,shuffle=shuffle,color_mode='grayscale', class_mode=class_mode, target_size=target_size)\n",
    "\n",
    "BS= 16\n",
    "TS=(24,24)\n",
    "\n",
    "train_batch= generator('../Datasets/dataset_less_class/train', shuffle=True, batch_size=BS, target_size=TS)\n",
    "valid_batch= generator('../Datasets/dataset_less_class/valid', shuffle=True, batch_size=BS, target_size=TS)\n",
    "\n",
    "SPE= len(train_batch.classes)//BS\n",
    "print(len(train_batch.classes))\n",
    "print(train_batch)\n",
    "VS = len(valid_batch.classes)//BS\n",
    "\n",
    "print(SPE,VS)\n",
    "\n",
    "\n",
    "img,labels= next(train_batch)\n",
    "# print(img.shape)"
   ]
  },
  {
   "cell_type": "markdown",
   "id": "20ca961a",
   "metadata": {},
   "source": [
    "### Building ANN Model"
   ]
  },
  {
   "cell_type": "code",
   "execution_count": null,
   "id": "861e05cd",
   "metadata": {},
   "outputs": [],
   "source": [
    "# model = Sequential()\n",
    "# model.add(Flatten(input_shape=(24,24,1)))\n",
    "# model.add(Dense(128,activation='relu'))\n",
    "# model.add(Dense(100,activation='relu'))\n",
    "# model.add(Dense(80,activation='relu'))\n",
    "# model.add(Dense(2,activation='softmax'))"
   ]
  },
  {
   "cell_type": "markdown",
   "id": "78cfb2ff",
   "metadata": {},
   "source": [
    "### Building CNN Model "
   ]
  },
  {
   "cell_type": "code",
   "execution_count": 3,
   "id": "eeb99f76",
   "metadata": {},
   "outputs": [],
   "source": [
    "model = Sequential([\n",
    "    Conv2D(32, kernel_size=(3, 3), activation='relu', input_shape=(24,24,1)),\n",
    "    MaxPooling2D(pool_size=(1,1)),\n",
    "    Conv2D(32, (3,3), activation='relu'),\n",
    "    MaxPooling2D(pool_size=(1,1)),\n",
    "    Conv2D(64, (3, 3), activation='relu'),\n",
    "    MaxPooling2D(pool_size=(1,1)),\n",
    "    Dropout(0.25),\n",
    "    \n",
    "    Flatten(),\n",
    "    Dense(128, kernel_initializer = 'uniform', activation='relu'),    \n",
    "    Dropout(0.5),   \n",
    "    \n",
    "    Dense(2, kernel_initializer = 'uniform', activation='softmax')\n",
    "])"
   ]
  },
  {
   "cell_type": "markdown",
   "id": "7d4f18f1",
   "metadata": {},
   "source": [
    "### Training and Saving Model"
   ]
  },
  {
   "cell_type": "code",
   "execution_count": 4,
   "id": "481bf796",
   "metadata": {
    "scrolled": false
   },
   "outputs": [
    {
     "name": "stdout",
     "output_type": "stream",
     "text": [
      "Model: \"sequential\"\n",
      "_________________________________________________________________\n",
      " Layer (type)                Output Shape              Param #   \n",
      "=================================================================\n",
      " conv2d (Conv2D)             (None, 22, 22, 32)        320       \n",
      "                                                                 \n",
      " max_pooling2d (MaxPooling2D  (None, 22, 22, 32)       0         \n",
      " )                                                               \n",
      "                                                                 \n",
      " conv2d_1 (Conv2D)           (None, 20, 20, 32)        9248      \n",
      "                                                                 \n",
      " max_pooling2d_1 (MaxPooling  (None, 20, 20, 32)       0         \n",
      " 2D)                                                             \n",
      "                                                                 \n",
      " conv2d_2 (Conv2D)           (None, 18, 18, 64)        18496     \n",
      "                                                                 \n",
      " max_pooling2d_2 (MaxPooling  (None, 18, 18, 64)       0         \n",
      " 2D)                                                             \n",
      "                                                                 \n",
      " dropout (Dropout)           (None, 18, 18, 64)        0         \n",
      "                                                                 \n",
      " flatten (Flatten)           (None, 20736)             0         \n",
      "                                                                 \n",
      " dense (Dense)               (None, 128)               2654336   \n",
      "                                                                 \n",
      " dropout_1 (Dropout)         (None, 128)               0         \n",
      "                                                                 \n",
      " dense_1 (Dense)             (None, 2)                 258       \n",
      "                                                                 \n",
      "=================================================================\n",
      "Total params: 2,682,658\n",
      "Trainable params: 2,682,658\n",
      "Non-trainable params: 0\n",
      "_________________________________________________________________\n"
     ]
    }
   ],
   "source": [
    "model.compile(optimizer='adam',loss='binary_crossentropy', metrics=['accuracy'])\n",
    "\n",
    "model.summary()\n",
    "\n",
    "# model.fit(train_batch, validation_data=valid_batch,epochs=15, steps_per_epoch=SPE ,validation_steps=VS)\n",
    "# model.fit(train_batch, validation_data=valid_batch, epochs=15)\n",
    "\n",
    "# model.save('models/Open_Closed_Eye_Detection.h5', overwrite=True)"
   ]
  }
 ],
 "metadata": {
  "kernelspec": {
   "display_name": "Python 3 (ipykernel)",
   "language": "python",
   "name": "python3"
  },
  "language_info": {
   "codemirror_mode": {
    "name": "ipython",
    "version": 3
   },
   "file_extension": ".py",
   "mimetype": "text/x-python",
   "name": "python",
   "nbconvert_exporter": "python",
   "pygments_lexer": "ipython3",
   "version": "3.9.16"
  }
 },
 "nbformat": 4,
 "nbformat_minor": 5
}
