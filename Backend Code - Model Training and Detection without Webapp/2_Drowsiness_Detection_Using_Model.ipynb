{
 "cells": [
  {
   "cell_type": "markdown",
   "id": "e430678c",
   "metadata": {},
   "source": [
    "## Detecting Person's Drowsiness using our Model Build and Harcasscade Library"
   ]
  },
  {
   "cell_type": "markdown",
   "id": "3ccf4857",
   "metadata": {},
   "source": [
    "### Importing Libraries"
   ]
  },
  {
   "cell_type": "code",
   "execution_count": 1,
   "id": "651b7fec",
   "metadata": {},
   "outputs": [
    {
     "name": "stdout",
     "output_type": "stream",
     "text": [
      "pygame 2.3.0 (SDL 2.24.2, Python 3.9.13)\n",
      "Hello from the pygame community. https://www.pygame.org/contribute.html\n"
     ]
    }
   ],
   "source": [
    "import cv2\n",
    "import os\n",
    "from keras.models import load_model\n",
    "import numpy as np\n",
    "from pygame import mixer\n",
    "import time"
   ]
  },
  {
   "cell_type": "markdown",
   "id": "35d39217",
   "metadata": {},
   "source": [
    "### Initializing Variables and Face, Eye Detectors, Loading Models "
   ]
  },
  {
   "cell_type": "code",
   "execution_count": 7,
   "id": "3ddc5837",
   "metadata": {
    "scrolled": false
   },
   "outputs": [],
   "source": [
    "mixer.init()\n",
    "# driver_sound = mixer.Sound('passenger.wav')\n",
    "# front_pass_sound = mixer.Sound('Front_Passenger.wav')\n",
    "face = cv2.CascadeClassifier('haar cascade files\\haarcascade_frontalface_alt.xml')\n",
    "leye = cv2.CascadeClassifier('haar cascade files\\haarcascade_lefteye_2splits.xml')\n",
    "reye = cv2.CascadeClassifier('haar cascade files\\haarcascade_righteye_2splits.xml')\n",
    "\n",
    "model = load_model('models/Open_Closed_Eye_Detection.h5')\n",
    "\n",
    "path = os.getcwd()\n",
    "\n",
    "cap = cv2.VideoCapture(0)\n",
    "font = cv2.FONT_HERSHEY_COMPLEX_SMALL\n",
    "# print(cap)\n",
    "\n",
    "count=0\n",
    "driver_score=0\n",
    "front_passenger_score=0\n",
    "thicc=2"
   ]
  },
  {
   "cell_type": "markdown",
   "id": "30959e5c",
   "metadata": {},
   "source": [
    "###  Detecting Face, Eyes and Predicting whether Eyes is open or closed"
   ]
  },
  {
   "cell_type": "raw",
   "id": "e6e040df",
   "metadata": {},
   "source": [
    "# If eyes is closed for a long time then playing an alert audio so the person or driver could wake up by it's sound"
   ]
  },
  {
   "cell_type": "code",
   "execution_count": 10,
   "id": "d51ba748",
   "metadata": {},
   "outputs": [
    {
     "name": "stdout",
     "output_type": "stream",
     "text": [
      "Driver Score :  0\n",
      "Front Passenger Score:  0\n"
     ]
    },
    {
     "ename": "NameError",
     "evalue": "name 'driver_sound' is not defined",
     "output_type": "error",
     "traceback": [
      "\u001b[1;31m---------------------------------------------------------------------------\u001b[0m",
      "\u001b[1;31mNameError\u001b[0m                                 Traceback (most recent call last)",
      "\u001b[1;32m~\\AppData\\Local\\Temp\\ipykernel_11384\\4077396484.py\u001b[0m in \u001b[0;36m<module>\u001b[1;34m\u001b[0m\n\u001b[0;32m    126\u001b[0m \u001b[1;33m\u001b[0m\u001b[0m\n\u001b[0;32m    127\u001b[0m     \u001b[1;32melif\u001b[0m \u001b[1;33m(\u001b[0m\u001b[0mdriver_score\u001b[0m \u001b[1;33m<\u001b[0m \u001b[1;36m5\u001b[0m\u001b[1;33m)\u001b[0m\u001b[1;33m:\u001b[0m\u001b[1;33m\u001b[0m\u001b[1;33m\u001b[0m\u001b[0m\n\u001b[1;32m--> 128\u001b[1;33m         \u001b[0mdriver_sound\u001b[0m\u001b[1;33m.\u001b[0m\u001b[0mstop\u001b[0m\u001b[1;33m(\u001b[0m\u001b[1;33m)\u001b[0m\u001b[1;33m\u001b[0m\u001b[1;33m\u001b[0m\u001b[0m\n\u001b[0m\u001b[0;32m    129\u001b[0m \u001b[1;33m\u001b[0m\u001b[0m\n\u001b[0;32m    130\u001b[0m     \u001b[1;31m# Code to beep alarm when Front Passenger score is greater than 10\u001b[0m\u001b[1;33m\u001b[0m\u001b[1;33m\u001b[0m\u001b[0m\n",
      "\u001b[1;31mNameError\u001b[0m: name 'driver_sound' is not defined"
     ]
    }
   ],
   "source": [
    "while(True):\n",
    "    driver_rpred_max_index = -1\n",
    "    driver_lpred_max_index = -1\n",
    "    front_pass_rpred_max_index = -1\n",
    "    front_pass_lpred_max_index = -1\n",
    "    \n",
    "    ret, frame = cap.read()\n",
    "    frame = cv2.flip(frame, 1)\n",
    "    height, width = frame.shape[:2] \n",
    "    cv2.rectangle(frame, (319,0) , (321,height) , (255,255,255) , thickness=cv2.FILLED)\n",
    "#     print(frame.shape)\n",
    "    gray = cv2.cvtColor(frame, cv2.COLOR_BGR2GRAY)\n",
    "#     print(gray.shape)\n",
    "    \n",
    "    faces = face.detectMultiScale(gray,minNeighbors=5, scaleFactor=1.1, minSize=(25,25))\n",
    "\n",
    "    cv2.rectangle(frame, (0,height-50) , (200,height) , (0,0,0) , thickness=cv2.FILLED )\n",
    "    cv2.rectangle(frame, (320,height-50) , (200+320,height) , (0,0,0) , thickness=cv2.FILLED )\n",
    "\n",
    "    for (x,y,w,h) in faces:\n",
    "        cv2.rectangle(frame, (x,y) , (x+w,y+h) , (100,100,100) , 1 )\n",
    "    \n",
    "\n",
    "    driver_image  = gray[:, 320:]\n",
    "    cv2.imshow('Driver', driver_image)\n",
    "\n",
    "    front_passenger = gray[:, :320]\n",
    "    cv2.imshow('Front Passenger', front_passenger)\n",
    "        \n",
    "    driver_left_eye = leye.detectMultiScale(driver_image)\n",
    "    driver_right_eye =  reye.detectMultiScale(driver_image)\n",
    "    \n",
    "    front_pass_left_eye = leye.detectMultiScale(front_passenger)\n",
    "    front_pass_right_eye =  reye.detectMultiScale(front_passenger)\n",
    "    \n",
    "    # Predicting weather eyes of driver are closed or open\n",
    "    for (x,y,w,h) in driver_right_eye:\n",
    "        cv2.rectangle(frame, (x+320,y) , (x+w+320,y+h) , (100,100,100) , 1 )\n",
    "        driver_right_eye=driver_image[y:y+h,x:x+w]\n",
    "        driver_right_eye = cv2.resize(driver_right_eye,(24,24))\n",
    "        driver_right_eye= driver_right_eye/255\n",
    "        driver_right_eye=  driver_right_eye.reshape(24,24,-1)\n",
    "        driver_right_eye = np.expand_dims(driver_right_eye,axis=0)\n",
    "        driver_rpred = model.predict(driver_right_eye)\n",
    "        driver_rpred_max_index = driver_rpred.argmax()\n",
    "\n",
    "    for (x,y,w,h) in driver_left_eye:\n",
    "        cv2.rectangle(frame, (x+320,y) , (x+w+320,y+h) , (100,100,100) , 1 )\n",
    "        driver_left_eye=driver_image[y:y+h,x:x+w]\n",
    "        driver_left_eye = cv2.resize(driver_left_eye,(24,24))\n",
    "        driver_left_eye= driver_left_eye/255\n",
    "        driver_left_eye=driver_left_eye.reshape(24,24,-1)\n",
    "        driver_left_eye = np.expand_dims(driver_left_eye,axis=0)\n",
    "        driver_lpred = model.predict(driver_left_eye)\n",
    "        driver_lpred_max_index = driver_lpred.argmax()\n",
    "        \n",
    "    for (x,y,w,h) in front_pass_right_eye:\n",
    "        cv2.rectangle(frame, (x,y) , (x+w,y+h) , (100,100,100) , 1 )\n",
    "        front_pass_right_eye=front_passenger[y:y+h,x:x+w]\n",
    "        front_pass_right_eye = cv2.resize(front_pass_right_eye,(24,24))\n",
    "        front_pass_right_eye= front_pass_right_eye/255\n",
    "        front_pass_right_eye=  front_pass_right_eye.reshape(24,24,-1)\n",
    "        front_pass_right_eye = np.expand_dims(front_pass_right_eye,axis=0)\n",
    "        front_pass_rpred = model.predict(front_pass_right_eye)\n",
    "        front_pass_rpred_max_index = front_pass_rpred.argmax()\n",
    "\n",
    "    for (x,y,w,h) in front_pass_left_eye:\n",
    "        cv2.rectangle(frame, (x,y) , (x+w,y+h) , (100,100,100) , 1 )\n",
    "        front_pass_left_eye=front_passenger[y:y+h,x:x+w]\n",
    "        front_pass_left_eye = cv2.resize(front_pass_left_eye,(24,24))\n",
    "        front_pass_left_eye= front_pass_left_eye/255\n",
    "        front_pass_left_eye=front_pass_left_eye.reshape(24,24,-1)\n",
    "        front_pass_left_eye = np.expand_dims(front_pass_left_eye,axis=0)\n",
    "        front_pass_lpred = model.predict(front_pass_left_eye)\n",
    "        front_pass_lpred_max_index = front_pass_lpred.argmax()\n",
    "\n",
    "    \n",
    "    if(driver_lpred_max_index==0 and driver_rpred_max_index==0):\n",
    "        driver_score=driver_score+1\n",
    "        cv2.putText(frame,\"Closed\",(10+320,height-20), font, 1,(255,255,255),1,cv2.LINE_AA)\n",
    "        cv2.putText(frame,'Score:'+str(driver_score),(100+320,height-20), font, 1,(255,255,255),1,cv2.LINE_AA)\n",
    "#    if(rpred[0]==1 or lpred[0]==1):\n",
    "    else:\n",
    "        driver_score=driver_score-1\n",
    "        cv2.putText(frame,\"Open\",(10+320,height-20), font, 1,(255,255,255),1,cv2.LINE_AA)\n",
    "        cv2.putText(frame,'Score:'+str(driver_score),(100+320,height-20), font, 1,(255,255,255),1,cv2.LINE_AA)\n",
    "    \n",
    "    if(driver_score<0):\n",
    "        driver_score=0   \n",
    "        cv2.putText(frame,'Score:'+str(driver_score),(100+320,height-20), font, 1,(255,255,255),1,cv2.LINE_AA)\n",
    "        \n",
    "    if(front_pass_lpred_max_index==0 and front_pass_rpred_max_index==0):\n",
    "        front_passenger_score=front_passenger_score+1\n",
    "        cv2.putText(frame,\"Closed\",(10,height-20), font, 1,(255,255,255),1,cv2.LINE_AA)\n",
    "        cv2.putText(frame,'Score:'+str(front_passenger_score),(100,height-20), font, 1,(255,255,255),1,cv2.LINE_AA)\n",
    "#    if(rpred[0]==1 or lpred[0]==1):\n",
    "    else:\n",
    "        front_passenger_score=front_passenger_score-1\n",
    "        cv2.putText(frame,\"Open\",(10,height-20), font, 1,(255,255,255),1,cv2.LINE_AA)\n",
    "        cv2.putText(frame,'Score:'+str(front_passenger_score),(100,height-20), font, 1,(255,255,255),1,cv2.LINE_AA)\n",
    "        \n",
    "    if(front_passenger_score<0):\n",
    "        front_passenger_score=0   \n",
    "        cv2.putText(frame,'Score:'+str(front_passenger_score),(100,height-20), font, 1,(255,255,255),1,cv2.LINE_AA)\n",
    "\n",
    "\n",
    "    print('Driver Score : ', driver_score)\n",
    "    print('Front Passenger Score: ', front_passenger_score)\n",
    "    \n",
    "    # Code to beep alarm when driver score is greater than 10\n",
    "    if(driver_score>5):\n",
    "        #person is feeling sleepy so we beep the alarm\n",
    "        cv2.imwrite(os.path.join(path,'driver_image.jpg'),frame)\n",
    "        try:\n",
    "            driver_sound.play()\n",
    "        except:  # isplaying = False\n",
    "            pass\n",
    "\n",
    "        if(thicc<8):\n",
    "            thicc= thicc+2\n",
    "        else:\n",
    "            thicc=thicc-2\n",
    "            if(thicc<2):\n",
    "                thicc=2\n",
    "        cv2.rectangle(frame,(320,0),(width,height),(0,0,255),thicc) \n",
    "    \n",
    "    elif (driver_score < 5):\n",
    "        driver_sound.stop()\n",
    "    \n",
    "    # Code to beep alarm when Front Passenger score is greater than 10\n",
    "    if(front_passenger_score>5):\n",
    "        #person is feeling sleepy so we beep the alarm\n",
    "        cv2.imwrite(os.path.join(path,'front_passenger.jpg'),frame)\n",
    "        try:\n",
    "            front_pass_sound.play()\n",
    "        except:  # isplaying = False\n",
    "            pass\n",
    "\n",
    "        if(thicc<8):\n",
    "            thicc= thicc+2\n",
    "        else:\n",
    "            thicc=thicc-2\n",
    "            if(thicc<2):\n",
    "                thicc=2\n",
    "        cv2.rectangle(frame,(0,0),(320,height),(0,0,255),thicc) \n",
    "    \n",
    "    elif (front_passenger_score < 5):\n",
    "        front_pass_sound.stop()\n",
    "    \n",
    "    # Displaying each Frame\n",
    "    cv2.imshow('frame',frame)\n",
    "\n",
    "    k = cv2.waitKey(100) & 0xff \n",
    "    if k == 27:\n",
    "        break"
   ]
  },
  {
   "cell_type": "markdown",
   "id": "22dd090c",
   "metadata": {},
   "source": [
    "### Releasing our utilized resources"
   ]
  },
  {
   "cell_type": "code",
   "execution_count": null,
   "id": "0853d6a4",
   "metadata": {},
   "outputs": [],
   "source": [
    "cap.release()\n",
    "cv2.destroyAllWindows()"
   ]
  },
  {
   "cell_type": "code",
   "execution_count": null,
   "id": "1fc83d17",
   "metadata": {},
   "outputs": [],
   "source": []
  },
  {
   "cell_type": "code",
   "execution_count": null,
   "id": "197c42ad",
   "metadata": {},
   "outputs": [],
   "source": []
  },
  {
   "cell_type": "code",
   "execution_count": null,
   "id": "b8a33f81",
   "metadata": {},
   "outputs": [],
   "source": []
  },
  {
   "cell_type": "code",
   "execution_count": null,
   "id": "7cc2949b",
   "metadata": {},
   "outputs": [],
   "source": []
  }
 ],
 "metadata": {
  "kernelspec": {
   "display_name": "Python 3 (ipykernel)",
   "language": "python",
   "name": "python3"
  },
  "language_info": {
   "codemirror_mode": {
    "name": "ipython",
    "version": 3
   },
   "file_extension": ".py",
   "mimetype": "text/x-python",
   "name": "python",
   "nbconvert_exporter": "python",
   "pygments_lexer": "ipython3",
   "version": "3.9.13"
  }
 },
 "nbformat": 4,
 "nbformat_minor": 5
}
